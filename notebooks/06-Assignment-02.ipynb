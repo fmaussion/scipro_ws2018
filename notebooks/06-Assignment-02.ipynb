{
 "cells": [
  {
   "cell_type": "markdown",
   "metadata": {},
   "source": [
    "# Assignment #02: using the standard library"
   ]
  },
  {
   "cell_type": "markdown",
   "metadata": {},
   "source": [
    "Today's exercises have to be done with help of the python standard library alone! No external module can be used."
   ]
  },
  {
   "cell_type": "markdown",
   "metadata": {},
   "source": [
    "## Exercise #02-01: cryptography for <s>dummies</s> Roman Emperors"
   ]
  },
  {
   "cell_type": "markdown",
   "metadata": {},
   "source": [
    "A very simple encryption technique is called the [Caesar cipher](http://en.wikipedia.org/wiki/Caesar_cipher). The basic idea is that each letter is replaced by a letter that is a certain number of letters away, so for example if the shift was 2, then A would become C, B would become D, and Z will become B.\n",
    "\n",
    "**A. Write a function that given a string and a shift, will produce the encrypted string for that shift**. The rules are:\n",
    "- you should accept lowercase and uppercase letters, and return letters of the same case\n",
    "- spaces or other punctuation characters should not be changed.\n",
    "\n",
    "There are several ways to reach this result. Just pick the one which makes more sense to you. Then, decrypt the following message, which was encrypted with a shift of 13:\n",
    "    \n",
    "    Pbatenghyngvbaf, lbh unir fhpprrqrq va qrpelcgvat gur fgevat.\n",
    "    \n",
    "**B. Now write a decoding script** which, when run in the linux or windows command line, prints the decoded phrase after asking the user to enter a phrase and a shift with which it was encrypted. Test your script on the sentence above. \n",
    "\n",
    "\n",
    "**C. Now try to decrypt this sentence, for which the shift is unknown**:\n",
    "    \n",
    "    Gwc uivioml bw nqvl bpm zqopb apqnb.\n",
    "    \n",
    "One way to solve this problem involves human decision, but another way can be fully automated (and implies more work). Pick the one you want!\n",
    "\n",
    "**Tip:** make use of python's [input()](https://docs.python.org/3/library/functions.html#input) function"
   ]
  },
  {
   "cell_type": "markdown",
   "metadata": {},
   "source": [
    "*Back to the [table of contents](00-Introduction.ipynb#ctoc)*"
   ]
  }
 ],
 "metadata": {
  "hide_input": false,
  "kernelspec": {
   "display_name": "Python 3",
   "language": "python",
   "name": "python3"
  },
  "language_info": {
   "codemirror_mode": {
    "name": "ipython",
    "version": 3
   },
   "file_extension": ".py",
   "mimetype": "text/x-python",
   "name": "python",
   "nbconvert_exporter": "python",
   "pygments_lexer": "ipython3",
   "version": "3.5.2"
  },
  "toc": {
   "base_numbering": 1,
   "nav_menu": {},
   "number_sections": false,
   "sideBar": true,
   "skip_h1_title": false,
   "title_cell": "Table of Contents",
   "title_sidebar": "Contents",
   "toc_cell": false,
   "toc_position": {},
   "toc_section_display": "block",
   "toc_window_display": false
  }
 },
 "nbformat": 4,
 "nbformat_minor": 2
}
