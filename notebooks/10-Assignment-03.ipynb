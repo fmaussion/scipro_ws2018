{
 "cells": [
  {
   "cell_type": "markdown",
   "metadata": {},
   "source": [
    "# Assignment #03: deeper in the python library"
   ]
  },
  {
   "cell_type": "markdown",
   "metadata": {},
   "source": [
    "Today's exercises have to be done with help of the python standard library alone! No external module can be used."
   ]
  },
  {
   "cell_type": "markdown",
   "metadata": {},
   "source": [
    "## Exercise #03-01: automated data download"
   ]
  },
  {
   "cell_type": "markdown",
   "metadata": {},
   "source": [
    "[SRTM](https://en.wikipedia.org/wiki/Shuttle_Radar_Topography_Mission) is a digital elevation model at ~90 m resolution covering almost the entire globe (up to $\\pm$ 60° latitude). The data is organized in 5°x5° tiles. To see a map of the tiles have a look at [this download page](http://srtm.csi.cgiar.org/SELECTION/inputCoord.asp). This tool is nice to use if you know which tile you want, but not very useful if you want more than one tile at different places of the globe.\n",
    "\n",
    "Fortunately, the entire dataset is available on this server: http://srtm.csi.cgiar.org/SRT-ZIP/SRTM_V41/SRTM_Data_GeoTiff/\n",
    "\n",
    "In order to protect from naive \"download all\" behavior, the files stored here cannot be listed (i.e. automated data scraping won't work). Fortunately for us , the file naming convention is very simple:\n",
    "- example file: http://srtm.csi.cgiar.org/SRT-ZIP/SRTM_V41/SRTM_Data_GeoTiff/srtm_39_04.zip\n",
    "- the first two digits number gives the location of the tile in the longitudes (starting at 180° West)\n",
    "- the last two digits gives the location of the tile in the latitudes (starting at 60° North and going southwards)\n",
    "\n",
    "Here are some examples of locations and their associated tile:\n",
    "- (-179, 59) -> 'srtm_01_01.zip'\n",
    "- (-179, 51) -> 'srtm_01_02.zip'\n",
    "- (-174, 54) -> 'srtm_02_02.zip'\n",
    "\n",
    "And so forth.\n",
    "\n",
    "**A. Write a script which, given a longitude and a latitude as arguments, downloads the corresponding file** in the current directory. The function should raise an error when the given location is not valid. \n",
    "\n",
    "*Hint 1: define \"valid\" locations first: some are easy to catch, some cannot be caught automatically. Do we really have to deal with those?*\n",
    "\n",
    "*Hint 2: unlike last week where we asked for user input, here I'm asking for a script with [command line arguments](https://docs.python.org/3/tutorial/stdlib.html?highlight=sys%20argv#command-line-arguments).*\n",
    "\n",
    "**B.** Extend this script to be a bit more clever: **download the data file only if the file isn't already available in the current directory**. This is particularly important because since last year their server has changed and the new one is *much* slower. Now you'd better not download the files two times...\n",
    "\n",
    "**C.** Extend this script to be even more clever: **given a range of longitudes and latitudes, it should download all the files covering this area**. For example, the range 9°W to 18°W and 44°N to 47°N would download 6 files."
   ]
  },
  {
   "cell_type": "markdown",
   "metadata": {},
   "source": [
    "*Note 1: we will have a look at the data later in the course. But If you want to display them now, you can open them with the [qgis](https://www.qgis.org) software for example.*\n",
    "\n",
    "*Note 2: at the edge of the tiles (i.e. coordinates -175, 55) the problem might be not well defined because of accuracy errors (we will get back to these). You shouldn't care about this for now and try to get things right for everywhere but at the exact boundaries.*\n",
    "\n",
    "*Note 3: you'll find numerous examples online for command line arguments. For example, here is my script call for the optional exercise C when called from ipython:*\n",
    "\n",
    "```\n",
    "%run download_srtm.py 9 44 18 47\n",
    "```"
   ]
  },
  {
   "cell_type": "markdown",
   "metadata": {},
   "source": [
    "*Back to the [table of contents](00-Introduction.ipynb#ctoc)*"
   ]
  }
 ],
 "metadata": {
  "hide_input": false,
  "kernelspec": {
   "display_name": "Python 3",
   "language": "python",
   "name": "python3"
  },
  "language_info": {
   "codemirror_mode": {
    "name": "ipython",
    "version": 3
   },
   "file_extension": ".py",
   "mimetype": "text/x-python",
   "name": "python",
   "nbconvert_exporter": "python",
   "pygments_lexer": "ipython3",
   "version": "3.5.2"
  },
  "toc": {
   "base_numbering": 1,
   "nav_menu": {},
   "number_sections": false,
   "sideBar": true,
   "skip_h1_title": false,
   "title_cell": "Table of Contents",
   "title_sidebar": "Contents",
   "toc_cell": false,
   "toc_position": {},
   "toc_section_display": "block",
   "toc_window_display": false
  }
 },
 "nbformat": 4,
 "nbformat_minor": 2
}
