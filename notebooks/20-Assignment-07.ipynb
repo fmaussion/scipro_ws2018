{
 "cells": [
  {
   "cell_type": "markdown",
   "metadata": {},
   "source": [
    "# Assignment #07: exceptions and testing"
   ]
  },
  {
   "cell_type": "markdown",
   "metadata": {},
   "source": [
    "This week you have learned two important new concepts: unit testing and exceptions handling. In today's assignment we will revisit old code in order to properly test it and make it more robust."
   ]
  },
  {
   "cell_type": "markdown",
   "metadata": {},
   "source": [
    "## Exercise #07-01: refactor and test old code"
   ]
  },
  {
   "cell_type": "markdown",
   "metadata": {},
   "source": [
    "- **Write a test suite for the following past exercises: \"#02: cryptography\" and \"#03: automated data download\"** (one ``test_*.py`` file per module). The test suite must contain unit tests for each function you programmed (I myself wrote 4 functions for exercise #02 and 3 for exercise #03). While doing so, you might find it very useful to refactor your code following the [good practices](09-Good-practices.ipynb): write small functions with a task clearly defined, which you can test for. If you can't test it, the function is possibly not written the right way: either too broad, or not useful enough.\n",
    "- **Apply the exception handling methods learned in [lesson 18](18-Exceptions.ipynb) to the download function(s) of exercise #03**. Add a test to your test suite to verify that exceptions are raised when an invalid tile is requested for download."
   ]
  },
  {
   "cell_type": "markdown",
   "metadata": {},
   "source": [
    "*Back to the [table of contents](00-Introduction.ipynb#ctoc)*"
   ]
  }
 ],
 "metadata": {
  "hide_input": false,
  "kernelspec": {
   "display_name": "Python 3",
   "language": "python",
   "name": "python3"
  },
  "language_info": {
   "codemirror_mode": {
    "name": "ipython",
    "version": 3
   },
   "file_extension": ".py",
   "mimetype": "text/x-python",
   "name": "python",
   "nbconvert_exporter": "python",
   "pygments_lexer": "ipython3",
   "version": "3.5.2"
  },
  "toc": {
   "base_numbering": 1,
   "nav_menu": {},
   "number_sections": false,
   "sideBar": true,
   "skip_h1_title": false,
   "title_cell": "Table of Contents",
   "title_sidebar": "Contents",
   "toc_cell": false,
   "toc_position": {},
   "toc_section_display": "block",
   "toc_window_display": false
  }
 },
 "nbformat": 4,
 "nbformat_minor": 2
}
