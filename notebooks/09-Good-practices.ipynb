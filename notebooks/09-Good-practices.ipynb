{
 "cells": [
  {
   "cell_type": "markdown",
   "metadata": {},
   "source": [
    "# Good practices, programming style and conventions"
   ]
  },
  {
   "cell_type": "markdown",
   "metadata": {},
   "source": [
    "Python is a very versatile programming language, and it has a very flexible syntax. Therefore, it is also very easy to write *ugly code* in python. This chapter reviews a number of guidelines and conventions widely accepted by the community."
   ]
  },
  {
   "cell_type": "markdown",
   "metadata": {
    "toc": true
   },
   "source": [
    "<h1>Table of Contents<span class=\"tocSkip\"></span></h1>\n",
    "<div class=\"toc\"><ul class=\"toc-item\"><li><span><a href=\"#Good-practices,-programming-style-and-conventions\" data-toc-modified-id=\"Good-practices,-programming-style-and-conventions-9\"><span class=\"toc-item-num\">9&nbsp;&nbsp;</span>Good practices, programming style and conventions</a></span><ul class=\"toc-item\"><li><span><a href=\"#Use-PEP-8\" data-toc-modified-id=\"Use-PEP-8-9.1\"><span class=\"toc-item-num\">9.1&nbsp;&nbsp;</span>Use PEP 8</a></span></li><li><span><a href=\"#Give-meaningful-names-to-variables-and-functions\" data-toc-modified-id=\"Give-meaningful-names-to-variables-and-functions-9.2\"><span class=\"toc-item-num\">9.2&nbsp;&nbsp;</span>Give meaningful names to variables and functions</a></span></li><li><span><a href=\"#Prefer-writing-many-small-functions-instead-of-monolithic-code-blocks\" data-toc-modified-id=\"Prefer-writing-many-small-functions-instead-of-monolithic-code-blocks-9.3\"><span class=\"toc-item-num\">9.3&nbsp;&nbsp;</span>Prefer writing many small functions instead of monolithic code blocks</a></span></li><li><span><a href=\"#Document-your-code\" data-toc-modified-id=\"Document-your-code-9.4\"><span class=\"toc-item-num\">9.4&nbsp;&nbsp;</span>Document your code</a></span></li><li><span><a href=\"#Refactor-your-code\" data-toc-modified-id=\"Refactor-your-code-9.5\"><span class=\"toc-item-num\">9.5&nbsp;&nbsp;</span>Refactor your code</a></span></li><li><span><a href=\"#The-Zen-of-Python\" data-toc-modified-id=\"The-Zen-of-Python-9.6\"><span class=\"toc-item-num\">9.6&nbsp;&nbsp;</span>The Zen of Python</a></span></li><li><span><a href=\"#What's-next?\" data-toc-modified-id=\"What's-next?-9.7\"><span class=\"toc-item-num\">9.7&nbsp;&nbsp;</span>What's next?</a></span></li></ul></li></ul></div>"
   ]
  },
  {
   "cell_type": "markdown",
   "metadata": {},
   "source": [
    "## Use PEP 8"
   ]
  },
  {
   "cell_type": "markdown",
   "metadata": {},
   "source": [
    "[PEP 8](https://www.python.org/dev/peps/pep-0008/) is a style guide for python code. It introduces new rules where the syntax leaves them open. As an example:"
   ]
  },
  {
   "cell_type": "code",
   "execution_count": 1,
   "metadata": {},
   "outputs": [],
   "source": [
    "# Not PEP8 compliant\n",
    "a=2*3\n",
    "# PEP8 compliant\n",
    "a = 2*3"
   ]
  },
  {
   "cell_type": "markdown",
   "metadata": {},
   "source": [
    "PEP8 gives **guidelines**, not strict rules. It is your choice to comply with them or not. As a matter of fact however, many open source projects have adopted PEP8 and require to use it if you want to contribute. If you want to use it too, a good choice is to turn on PEP8 checking in your favorite IDE (in Spyder: ``Tools -> Preferences -> Editor -> Code Introspection/Analysis -> `` Tick ``Real-time code style analysis`` for PEP8 style analysis)."
   ]
  },
  {
   "cell_type": "markdown",
   "metadata": {},
   "source": [
    "## Give meaningful names to variables and functions"
   ]
  },
  {
   "cell_type": "markdown",
   "metadata": {},
   "source": [
    "Code space is less important than your time. Give meaningful name to your variables and functions, even if it makes them quite long! For example, prefer:"
   ]
  },
  {
   "cell_type": "markdown",
   "metadata": {},
   "source": [
    "```python\n",
    "def fahrenheit_to_celsius(temp):\n",
    "    \"\"\"Converts degrees Fahrenheits to degrees Celsius.\"\"\"\n",
    "```"
   ]
  },
  {
   "cell_type": "markdown",
   "metadata": {},
   "source": [
    "to the shorter but less explicit:"
   ]
  },
  {
   "cell_type": "markdown",
   "metadata": {},
   "source": [
    "```python\n",
    "def f2c(tf):\n",
    "    \"\"\"Converts degrees Fahrenheits to degrees Celsius.\"\"\"\n",
    "```"
   ]
  },
  {
   "cell_type": "markdown",
   "metadata": {},
   "source": [
    "## Prefer writing many small functions instead of monolithic code blocks"
   ]
  },
  {
   "cell_type": "markdown",
   "metadata": {},
   "source": [
    "[Separation of concerns](https://en.wikipedia.org/wiki/Separation_of_concerns) is an important design principle for separating a computer program into distinct sections, such that each section addresses a separate concern. This increases the code readability and facilitates unit testing.\n",
    "\n",
    "For example, a scientific script can often be organized in well defined steps:\n",
    "- data input (read a NetCDF or text file)\n",
    "- data pre-processing (filtering missing data, discarding useless variables)\n",
    "- data processing (actual computation)\n",
    "- data visualization (producing a plot)\n",
    "- output (writing the processed data to a file for later use)\n",
    "\n",
    "Each of these steps and sub-steps should be separated in different functions, maybe even in different scripts."
   ]
  },
  {
   "cell_type": "markdown",
   "metadata": {},
   "source": [
    "## Document your code "
   ]
  },
  {
   "cell_type": "markdown",
   "metadata": {},
   "source": [
    "Write comments in your code, and document the functions with docstrings. Here again there are [some conventions](https://github.com/numpy/numpy/blob/master/doc/HOWTO_DOCUMENT.rst.txt) that I recommend to follow.\n",
    "\n",
    "Note that this is useful even if you don't plan to share your code. At the very last there is at least one person reading your code: yourself! And it's always a good idea to be nice to yourself ;-)"
   ]
  },
  {
   "cell_type": "markdown",
   "metadata": {},
   "source": [
    "Abstruse Goose made a funny comic about code documentation: http://abstrusegoose.com/432"
   ]
  },
  {
   "cell_type": "markdown",
   "metadata": {},
   "source": [
    "## Refactor your code"
   ]
  },
  {
   "cell_type": "markdown",
   "metadata": {},
   "source": [
    "It is impossible to get all things right at the first shot. Some real-life examples:\n",
    "- after a while, a function that you found useful becomes clunky and its [signature](https://en.wikipedia.org/wiki/Type_signature) needs to be redefined\n",
    "- a code that worked with data A doesn't work with data B\n",
    "- you find yourself copy-pasting 5 lines of codes many times in the same script\n",
    "- the name of this variable made sense with data A, but not anymore with data B\n",
    "- nobody understands your code\n",
    "\n",
    "All these are good indicators that your code needs some [refactoring](https://en.wikipedia.org/wiki/Code_refactoring). This happens often (even for big programs) and becomes more and more difficult the longer you wait. Here also, good IDEs can help you in this process, either by letting you know where the functions are used, and by letting you know when your tests fail."
   ]
  },
  {
   "cell_type": "markdown",
   "metadata": {},
   "source": [
    "## The Zen of Python "
   ]
  },
  {
   "cell_type": "code",
   "execution_count": 2,
   "metadata": {},
   "outputs": [
    {
     "name": "stdout",
     "output_type": "stream",
     "text": [
      "The Zen of Python, by Tim Peters\n",
      "\n",
      "Beautiful is better than ugly.\n",
      "Explicit is better than implicit.\n",
      "Simple is better than complex.\n",
      "Complex is better than complicated.\n",
      "Flat is better than nested.\n",
      "Sparse is better than dense.\n",
      "Readability counts.\n",
      "Special cases aren't special enough to break the rules.\n",
      "Although practicality beats purity.\n",
      "Errors should never pass silently.\n",
      "Unless explicitly silenced.\n",
      "In the face of ambiguity, refuse the temptation to guess.\n",
      "There should be one-- and preferably only one --obvious way to do it.\n",
      "Although that way may not be obvious at first unless you're Dutch.\n",
      "Now is better than never.\n",
      "Although never is often better than *right* now.\n",
      "If the implementation is hard to explain, it's a bad idea.\n",
      "If the implementation is easy to explain, it may be a good idea.\n",
      "Namespaces are one honking great idea -- let's do more of those!\n"
     ]
    }
   ],
   "source": [
    "import this"
   ]
  },
  {
   "cell_type": "markdown",
   "metadata": {},
   "source": [
    "## What's next? "
   ]
  },
  {
   "cell_type": "markdown",
   "metadata": {},
   "source": [
    "Back to the [table of contents](00-Introduction.ipynb#ctoc), or [jump to this week's assignment](10-Assignment-03.ipynb)."
   ]
  }
 ],
 "metadata": {
  "hide_input": false,
  "kernelspec": {
   "display_name": "Python 3",
   "language": "python",
   "name": "python3"
  },
  "language_info": {
   "codemirror_mode": {
    "name": "ipython",
    "version": 3
   },
   "file_extension": ".py",
   "mimetype": "text/x-python",
   "name": "python",
   "nbconvert_exporter": "python",
   "pygments_lexer": "ipython3",
   "version": "3.5.2"
  },
  "toc": {
   "base_numbering": "9",
   "nav_menu": {},
   "number_sections": true,
   "sideBar": true,
   "skip_h1_title": false,
   "title_cell": "Table of Contents",
   "title_sidebar": "Contents",
   "toc_cell": true,
   "toc_position": {
    "height": "calc(100% - 180px)",
    "left": "10px",
    "top": "150px",
    "width": "384px"
   },
   "toc_section_display": "block",
   "toc_window_display": true
  }
 },
 "nbformat": 4,
 "nbformat_minor": 2
}
