{
 "cells": [
  {
   "cell_type": "markdown",
   "metadata": {},
   "source": [
    "# Open source projects"
   ]
  },
  {
   "cell_type": "markdown",
   "metadata": {},
   "source": [
    "The vast majority of the python libraries you are going to use during your career are open-source projects. This development model is fundamentally different from proprietary software models like Matlab. But what does that mean exactly, and what are the consequences for you as a user? Since \"everything has a cost\", who pays for the development of open-source libraries? And how can you participate to open source development yourself? "
   ]
  },
  {
   "cell_type": "markdown",
   "metadata": {
    "toc": true
   },
   "source": [
    "<h1>Table of Contents<span class=\"tocSkip\"></span></h1>\n",
    "<div class=\"toc\"><ul class=\"toc-item\"><li><span><a href=\"#Open-source-projects\" data-toc-modified-id=\"Open-source-projects-32\"><span class=\"toc-item-num\">32&nbsp;&nbsp;</span>Open source projects</a></span><ul class=\"toc-item\"><li><span><a href=\"#Definition\" data-toc-modified-id=\"Definition-32.1\"><span class=\"toc-item-num\">32.1&nbsp;&nbsp;</span>Definition</a></span></li><li><span><a href=\"#Licenses\" data-toc-modified-id=\"Licenses-32.2\"><span class=\"toc-item-num\">32.2&nbsp;&nbsp;</span>Licenses</a></span></li><li><span><a href=\"#Development-and-governance\" data-toc-modified-id=\"Development-and-governance-32.3\"><span class=\"toc-item-num\">32.3&nbsp;&nbsp;</span>Development and governance</a></span></li><li><span><a href=\"#Consequences\" data-toc-modified-id=\"Consequences-32.4\"><span class=\"toc-item-num\">32.4&nbsp;&nbsp;</span>Consequences</a></span></li><li><span><a href=\"#Participating\" data-toc-modified-id=\"Participating-32.5\"><span class=\"toc-item-num\">32.5&nbsp;&nbsp;</span>Participating</a></span></li><li><span><a href=\"#What's-next?\" data-toc-modified-id=\"What's-next?-32.6\"><span class=\"toc-item-num\">32.6&nbsp;&nbsp;</span>What's next?</a></span></li></ul></li></ul></div>"
   ]
  },
  {
   "cell_type": "markdown",
   "metadata": {},
   "source": [
    "## Definition"
   ]
  },
  {
   "cell_type": "markdown",
   "metadata": {},
   "source": [
    "It is a common misconception to think that the primary purpose of open source software is to be free (free of charge, as in \"free beer\"). In fact, what makes a software [open source](https://en.wikipedia.org/wiki/Open-source_software) is its **license**, which must grant users and peers the rights to study, change, and distribute the software to anyone and for any purpose.\n",
    "\n",
    "Famous examples of open source softwares are the Linux operating system, the Firefox web browser, the VLC media player, or the CPython language implementation. Open source software may be developed in a collaborative public manner, but it doesn't have to.\n",
    "\n",
    "Non open source software are often called \"closed source\". They have a restrictive license and often attempt to hide their code from users and developers. Note that free of charge software might be closed source (in which case they are called \"[freeware](https://en.wikipedia.org/wiki/Freeware)\"): a good example of popular freeware is Adobe Acrobat.\n",
    "\n",
    "The concept of \"open\" and \"closed\" source has been applied to many other aspects of society, technology, knowledge or science (see e.g. the related concept of [open science](https://en.wikipedia.org/wiki/Open_science))."
   ]
  },
  {
   "cell_type": "markdown",
   "metadata": {},
   "source": [
    "## Licenses"
   ]
  },
  {
   "cell_type": "markdown",
   "metadata": {},
   "source": [
    "Open source licenses can be roughly classified in three categories: [copyleft](https://en.wikipedia.org/wiki/Copyleft), [permissive](https://en.wikipedia.org/wiki/Permissive_software_licence), or [public domain](https://en.wikipedia.org/wiki/Public-domain_software).\n",
    "\n",
    "**Copyleft** licenses grant the right to freely distribute copies and modified versions of a work with the stipulation that the same rights be preserved in derivative works down the line. By using this license, authors want to make sure that their work (and all the derivations of their work) will remain free. Prominent examples of copyleft licenses are the [GNU General Public License](https://en.wikipedia.org/wiki/GNU_General_Public_License) (used by the Linux kernel) or the \n",
    "[Creative Commons Share Alike](https://creativecommons.org/licenses/by-sa/4.0/) license.\n",
    "\n",
    "**Permissive** licenses have less restrictions than copyleft licenses. Often, they warrant acknowledgement of the original authors (attribution), but they allow derivations of the work to be closed source. Supporters of permissive licenses argue that is is \"more free\" than copyleft licenses. Examples of permissive licenses are the [BSD license family](https://en.wikipedia.org/wiki/BSD_licenses), used for example by numpy. The majority of licenses in the python ecosystem are permissive, BSD-like licenses.\n",
    "\n",
    "**Public domain** licenses are entirely free: they warrant absolutely no ownership such as copyright, trademark, or patent. A notable example of importnt software in the public domain is the secure hash algorithm [SHA-3](https://en.wikipedia.org/wiki/SHA-3).\n",
    "\n",
    "Note that providing code online (on GitHub or elsewhere) without license is not recommended. Even if you don't want to keep any rights on your code, you should add a statement making it clear that your code is in the public domain (and be careful not to violate any copyright in doing so!)."
   ]
  },
  {
   "cell_type": "markdown",
   "metadata": {},
   "source": [
    "## Development and governance"
   ]
  },
  {
   "cell_type": "markdown",
   "metadata": {},
   "source": [
    "The [open source model](https://en.wikipedia.org/wiki/Open-source_model) is a decentralized software-development model that encourages open collaboration. Very often, open source projects originate from a small group of developers and gather further developers as the software grows in recognition and acceptance. At the time of writing (21.01.2019), numpy had [722 contributors](https://github.com/numpy/numpy/graphs/contributors), xarray [133](https://github.com/pydata/xarray/graphs/contributors), OGGM [15](https://github.com/OGGM/oggm/graphs/contributors).\n",
    "\n",
    "The decentralized development model is made possible by platforms like [GitHub](https://github.com/), which help to organize the discussion and integration of code improvements by the community. In most of the cases, decisions are taken from one or two core maintainers (people with writing permission to the directory). When discussion is needed, a democratic decision process might take place.\n",
    "\n",
    "Such a development model is not without problems and risks, and the lack of clear governance is probably the major argument that opponents of the open source model put forward when criticizing it. In the next section we discuss some of the consequences of such a model."
   ]
  },
  {
   "cell_type": "markdown",
   "metadata": {},
   "source": [
    "## Consequences"
   ]
  },
  {
   "cell_type": "markdown",
   "metadata": {},
   "source": [
    "Advantages:\n",
    "- the most obvious advantage of open source projects is that they are available at no cost. This is particularly important for developing countries or small companies / individuals\n",
    "- open source increases security: indeed, if many people can review the code the chances to find bugs are higher\n",
    "- it isn't dependent on one entity or company: the development can continue even after a company disappears\n",
    "- freedom of development: since there is no commercial constraint, the code can be developed for ideas, not clients\n",
    "- engaging community: new developers are more likely to participate to an open source project (which per definition belongs to anyone) than to a company's product\n",
    "\n",
    "Disadvantages (from a user perspective):\n",
    "- bug fixes or new features can only be taken over by the community, and can take a long time (especially if they are special or hard to implement)\n",
    "- the lack of clear long term direction of open source projects can lead to a monolithic, complex project structure\n",
    "- the open source community sometimes enjoys freedom too much: this can lead to parallel developments of similar tools/features and unefficient resource management.\n",
    "\n",
    "The rise in popularity of open source projects like python and R, however, seem to indicate that the open source model is meant to become more frequent in the future. "
   ]
  },
  {
   "cell_type": "markdown",
   "metadata": {},
   "source": [
    "## Participating"
   ]
  },
  {
   "cell_type": "markdown",
   "metadata": {},
   "source": [
    "You probably didn't know it, but there are many ways in which you can participate to the development of open source source software!\n",
    "\n",
    "- **reporting bugs** is probably the first encounter of many people with the open source development model. And it is an important one! Bugs that are reported can be corrected and are a good indicator of the use of a software library. On [GitHub](https://github.com/), reporting a bug is as easy as clicking on the \"New issue\" button and explaining your problem. \n",
    "- **helping other to solve problems**: on platforms like [GitHub](https://github.com/) and [stackoverflow](https://stackoverflow.com/), helping others is a great way to contribute to the community.\n",
    "- **write documentation or tutorials**: writing a good documentation is harder than writing good code! Most of the python package documentation is hosted on [ReadTheDocs](https://readthedocs.org/).\n",
    "- **participate to discussions about code improvements**: most software packages have a forum or mailing list where they discuss current issues. It is very instructive to follow these discussions: this is how I've learned most of my programming skills!\n",
    "- **propose a bugfix or code improvement**: this is the real thing! Having your code included in a large open source project is much easier than you think! First you'll need to learn a little bit about [git](https://git-scm.com/) and [GitHub](https://github.com/), and then be prepared to learned a LOT of new things from your first code review.  \n",
    "- **donate to open source foundation(s)**: some tools (like [Spyder](https://opencollective.com/spyder/donate)) rely on crowdsourcing platforms to sustain their development. "
   ]
  },
  {
   "cell_type": "markdown",
   "metadata": {},
   "source": [
    "## What's next? "
   ]
  },
  {
   "cell_type": "markdown",
   "metadata": {},
   "source": [
    "**Now that you are a proficient python programmer, join the open source movement!**"
   ]
  },
  {
   "cell_type": "markdown",
   "metadata": {},
   "source": [
    "Back to the [table of contents](00-Introduction.ipynb#ctoc)."
   ]
  }
 ],
 "metadata": {
  "hide_input": false,
  "kernelspec": {
   "display_name": "Python 3",
   "language": "python",
   "name": "python3"
  },
  "language_info": {
   "codemirror_mode": {
    "name": "ipython",
    "version": 3
   },
   "file_extension": ".py",
   "mimetype": "text/x-python",
   "name": "python",
   "nbconvert_exporter": "python",
   "pygments_lexer": "ipython3",
   "version": "3.5.2"
  },
  "toc": {
   "base_numbering": "32",
   "nav_menu": {},
   "number_sections": true,
   "sideBar": true,
   "skip_h1_title": false,
   "title_cell": "Table of Contents",
   "title_sidebar": "Contents",
   "toc_cell": true,
   "toc_position": {
    "height": "750px",
    "left": "29px",
    "top": "111px",
    "width": "345px"
   },
   "toc_section_display": true,
   "toc_window_display": true
  }
 },
 "nbformat": 4,
 "nbformat_minor": 2
}
