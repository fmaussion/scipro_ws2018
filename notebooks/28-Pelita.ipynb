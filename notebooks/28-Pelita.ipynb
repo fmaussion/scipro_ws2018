{
 "cells": [
  {
   "cell_type": "markdown",
   "metadata": {},
   "source": [
    "# Pelita: learning by gaming"
   ]
  },
  {
   "cell_type": "markdown",
   "metadata": {
    "toc": true
   },
   "source": [
    "<h1>Table of Contents<span class=\"tocSkip\"></span></h1>\n",
    "<div class=\"toc\"><ul class=\"toc-item\"><li><span><a href=\"#Pelita:-learning-by-gaming\" data-toc-modified-id=\"Pelita:-learning-by-gaming-28\"><span class=\"toc-item-num\">28&nbsp;&nbsp;</span>Pelita: learning by gaming</a></span><ul class=\"toc-item\"><li><span><a href=\"#The-pelita-contest\" data-toc-modified-id=\"The-pelita-contest-28.1\"><span class=\"toc-item-num\">28.1&nbsp;&nbsp;</span>The pelita contest</a></span></li><li><span><a href=\"#Objectives\" data-toc-modified-id=\"Objectives-28.2\"><span class=\"toc-item-num\">28.2&nbsp;&nbsp;</span>Objectives</a></span></li><li><span><a href=\"#Getting-started\" data-toc-modified-id=\"Getting-started-28.3\"><span class=\"toc-item-num\">28.3&nbsp;&nbsp;</span>Getting started</a></span></li><li><span><a href=\"#Gaining-speed\" data-toc-modified-id=\"Gaining-speed-28.4\"><span class=\"toc-item-num\">28.4&nbsp;&nbsp;</span>Gaining speed</a></span></li><li><span><a href=\"#Let's-do-a-little-bit-of-exploration-ourselves\" data-toc-modified-id=\"Let's-do-a-little-bit-of-exploration-ourselves-28.5\"><span class=\"toc-item-num\">28.5&nbsp;&nbsp;</span>Let's do a little bit of exploration ourselves</a></span><ul class=\"toc-item\"><li><span><a href=\"#Write-two-simple-players\" data-toc-modified-id=\"Write-two-simple-players-28.5.1\"><span class=\"toc-item-num\">28.5.1&nbsp;&nbsp;</span>Write two simple players</a></span></li><li><span><a href=\"#Define-a-maze-layout\" data-toc-modified-id=\"Define-a-maze-layout-28.5.2\"><span class=\"toc-item-num\">28.5.2&nbsp;&nbsp;</span>Define a maze layout</a></span></li><li><span><a href=\"#And-a-team\" data-toc-modified-id=\"And-a-team-28.5.3\"><span class=\"toc-item-num\">28.5.3&nbsp;&nbsp;</span>And a team</a></span></li><li><span><a href=\"#Explore\" data-toc-modified-id=\"Explore-28.5.4\"><span class=\"toc-item-num\">28.5.4&nbsp;&nbsp;</span>Explore</a></span></li><li><span><a href=\"#A-more-complex-maze\" data-toc-modified-id=\"A-more-complex-maze-28.5.5\"><span class=\"toc-item-num\">28.5.5&nbsp;&nbsp;</span>A more complex maze</a></span></li><li><span><a href=\"#A-more-aggressive-player\" data-toc-modified-id=\"A-more-aggressive-player-28.5.6\"><span class=\"toc-item-num\">28.5.6&nbsp;&nbsp;</span>A more aggressive player</a></span></li></ul></li><li><span><a href=\"#What's-next?\" data-toc-modified-id=\"What's-next?-28.6\"><span class=\"toc-item-num\">28.6&nbsp;&nbsp;</span>What's next?</a></span></li></ul></li></ul></div>"
   ]
  },
  {
   "cell_type": "markdown",
   "metadata": {},
   "source": [
    "## The pelita contest"
   ]
  },
  {
   "cell_type": "markdown",
   "metadata": {},
   "source": [
    "[Pelita](https://aspp.github.io/pelita/index.html) is an \"Actor-based Toolkit for Interactive Language Education in Python\". The game was created for an [Advanced Scientific Python summer school](https://python.g-node.org/wiki/start), and we are going to use it as well.\n",
    "\n",
    "Have a look at their [presentation](https://python.g-node.org/python-summerschool-2017/_media/pelita_2017.pdf) from last year to get you in the mood.\n",
    "\n",
    "The rules are simple: you work in a team, and send me your players before the contest (the exact date will be announced via OLAT). The last day of the lecture we will see the bots compete and let the best team win!"
   ]
  },
  {
   "cell_type": "markdown",
   "metadata": {},
   "source": [
    "## Objectives "
   ]
  },
  {
   "cell_type": "markdown",
   "metadata": {},
   "source": [
    "The specific objectives of this exercise are:\n",
    "- to learn how to introspect and use a large codebase for your purpose: writing a player\n",
    "- to apply the concepts learned during the lecture: organize your code in clear modules and packages, use object oriented concepts, and write tests!\n",
    "- to define development strategies in a team\n",
    "- to have fun!\n",
    "\n",
    "As you are going to see, it is possible to write simple to (very) complex strategies for your players. You should not try to develop the \"best\" strategy from scratch but rather advance in smaller steps. Also, you should know when to stop: I don't expect you to create the best players ever, nor do I expect you to spend all your time on this. Try to avoid bugs, try to develop simple but clever players, and have fun!\n",
    "\n",
    "**Your grade (10% of the final grade) will not be based on the outcome of the contest**: it will be based on code quality, clarity, and originality."
   ]
  },
  {
   "cell_type": "markdown",
   "metadata": {},
   "source": [
    "The Pelita developers write it this way:\n",
    "\n",
    "*We expect you to try out the techniques, and evaluate what is feasible and what not, what helps you being more efficient at writing reliable code, and what feels like a hindrance instead. By doing this in the group we expect you to profit from the experience of other students, and, by explaining to other students your own experiences, to become more aware of what is it that you already master and what is it that you still have to learn.*\n",
    "\n",
    "*Write tests for the part of your code which are testable, decide what parts you can test, what parts you should test, what parts you must test, and also what parts can not be tested.*\n",
    "\n",
    "*The idea of the group project is not to write the most powered bots! Remember that and don't get carried away by the competition :)*"
   ]
  },
  {
   "cell_type": "markdown",
   "metadata": {},
   "source": [
    "## Getting started"
   ]
  },
  {
   "cell_type": "markdown",
   "metadata": {},
   "source": [
    "Download the pelita package from the [official repository](https://github.com/ASPP/pelita). Unzip the package and install it with ``pip install -e /path/to/package`` (don't forget the ``--user`` if you are on a university computer).\n",
    "\n",
    "run your first game with a simple call to ``$ pelita``!\n",
    "\n",
    "**To start to write your own players, download the template available** [here](https://github.com/fmaussion/pelita-player-template). Unpack it and follow the instructions:\n",
    "- run ``$ pytest`` to dummy-test the template.\n",
    "- run ``$ pelita myteam demo_opponents/PolitePlayers.py`` for a quick game against a demo team\n",
    "\n",
    "For more control options, type ``pelita --help``."
   ]
  },
  {
   "cell_type": "markdown",
   "metadata": {},
   "source": [
    "## Gaining speed "
   ]
  },
  {
   "cell_type": "markdown",
   "metadata": {},
   "source": [
    "The best way to get started is to have a look at all demo players in the package template. They will guide you through the basic functionalities from which you can build upon.\n",
    "\n",
    "The documentation about [writing a player](https://aspp.github.io/pelita/writing_player.html) is a good second step.\n",
    "\n",
    "All this, however, might still leave you a little confused: take your time and don't rush into coding right away. The test environment available in the template package and therefore runnable **in a debugger** from spyder or pycharm is probably the best way to explore the tools available to you."
   ]
  },
  {
   "cell_type": "markdown",
   "metadata": {},
   "source": [
    "## Let's do a little bit of exploration ourselves "
   ]
  },
  {
   "cell_type": "markdown",
   "metadata": {},
   "source": [
    "### Write two simple players "
   ]
  },
  {
   "cell_type": "code",
   "execution_count": 1,
   "metadata": {},
   "outputs": [],
   "source": [
    "from pelita import datamodel\n",
    "from pelita.graph import Graph, NoPathException, diff_pos\n",
    "from pelita.player import AbstractPlayer\n",
    "\n",
    "\n",
    "class FastEatingPlayer(AbstractPlayer):\n",
    "    \"\"\"Like SmartEatingPlayer but without taking enemies into \n",
    "    account and seeking the closest food (always).\"\"\"\n",
    "\n",
    "    def set_initial(self):\n",
    "\n",
    "        # This is called only once \\t the beginning of the game\n",
    "        # A graph is useful to help you find your way in the maze\n",
    "        self.graph = Graph(self.current_uni.reachable([self.initial_pos]))\n",
    "\n",
    "    def goto_pos(self, pos):\n",
    "\n",
    "        # Next move to go to the desired position(s)\n",
    "        return self.graph.bfs(self.current_pos, pos)[-1]\n",
    "\n",
    "    def get_move(self):\n",
    "\n",
    "        # Check the move towards the closest enemy food\n",
    "        try:\n",
    "            next_pos = self.goto_pos(self.enemy_food)\n",
    "            move = diff_pos(self.current_pos, next_pos)\n",
    "        except NoPathException:\n",
    "            move = datamodel.stop\n",
    "\n",
    "        # Check that it is one of all possible moves, else random\n",
    "        if move in self.legal_moves:\n",
    "            return move\n",
    "        else:\n",
    "            return self.rnd.choice(list(self.legal_moves.keys()))\n",
    "\n",
    "\n",
    "class StoppingPlayer(AbstractPlayer):\n",
    "    def get_move(self):\n",
    "        return datamodel.stop"
   ]
  },
  {
   "cell_type": "markdown",
   "metadata": {},
   "source": [
    "### Define a maze layout "
   ]
  },
  {
   "cell_type": "markdown",
   "metadata": {},
   "source": [
    "Mazes can be provided by the user using a simple ascii layout. Walls are represented by ``#``, food pellets with dots, and players by their number (0 and 2 belong to team 1, 1 and 3 to team 2). Here I defined a maze made to test the behavior of the players of team 1 (left hand side), and added one food pellet on the left hand side too (this is needed for the game to be valid):"
   ]
  },
  {
   "cell_type": "code",
   "execution_count": 2,
   "metadata": {},
   "outputs": [],
   "source": [
    "test_layout = (\n",
    "    \"\"\" ##############################################################\n",
    "        #0                                   .                      1#\n",
    "        #                                    .                       #\n",
    "        #                                    .                       #\n",
    "        #                                    .                       #\n",
    "        #      .                             .                       #\n",
    "        #                                    .                       #\n",
    "        #                                    .                       #\n",
    "        #                                    ........................#\n",
    "        #2                                                          3#\n",
    "        ##############################################################\n",
    "     \"\"\"\n",
    ")"
   ]
  },
  {
   "cell_type": "markdown",
   "metadata": {},
   "source": [
    "### And a team "
   ]
  },
  {
   "cell_type": "code",
   "execution_count": 3,
   "metadata": {},
   "outputs": [],
   "source": [
    "from pelita.game_master import GameMaster\n",
    "from pelita.player import SimpleTeam\n",
    "\n",
    "# Make the team\n",
    "player_0 = FastEatingPlayer()\n",
    "player_1 = StoppingPlayer()\n",
    "player_2 = StoppingPlayer()\n",
    "player_3 = StoppingPlayer()\n",
    "teams = [\n",
    "    SimpleTeam('One', player_0, player_2),\n",
    "    SimpleTeam('Two', player_1, player_3)\n",
    "]\n",
    "\n",
    "# Start the game\n",
    "game_master = GameMaster(test_layout, teams, 4, 300)\n",
    "game_master.set_initial()"
   ]
  },
  {
   "cell_type": "markdown",
   "metadata": {},
   "source": [
    "### Explore "
   ]
  },
  {
   "cell_type": "markdown",
   "metadata": {},
   "source": [
    "Now we are ready to see what is happening. Lets see the state of the universe before and after a round:"
   ]
  },
  {
   "cell_type": "code",
   "execution_count": 4,
   "metadata": {},
   "outputs": [
    {
     "name": "stdout",
     "output_type": "stream",
     "text": [
      "##############################################################\n",
      "#0                                   .                      1#\n",
      "#                                    .                       #\n",
      "#                                    .                       #\n",
      "#                                    .                       #\n",
      "#      .                             .                       #\n",
      "#                                    .                       #\n",
      "#                                    .                       #\n",
      "#                                    ........................#\n",
      "#2                                                          3#\n",
      "##############################################################\n",
      "Team(index=0, zone=(0, 30), score=0)\n",
      "\tBot(index=0, initial_pos=(1, 1), team_index=0, homezone=(0, 30), current_pos=(1, 1), noisy=False)\n",
      "\tBot(index=2, initial_pos=(1, 9), team_index=0, homezone=(0, 30), current_pos=(1, 9), noisy=False)\n",
      "Team(index=1, zone=(31, 61), score=0)\n",
      "\tBot(index=1, initial_pos=(60, 1), team_index=1, homezone=(31, 61), current_pos=(60, 1), noisy=False)\n",
      "\tBot(index=3, initial_pos=(60, 9), team_index=1, homezone=(31, 61), current_pos=(60, 9), noisy=False)\n",
      "\n"
     ]
    }
   ],
   "source": [
    "print(game_master.universe.pretty)"
   ]
  },
  {
   "cell_type": "code",
   "execution_count": 5,
   "metadata": {},
   "outputs": [],
   "source": [
    "game_master.play_round()"
   ]
  },
  {
   "cell_type": "code",
   "execution_count": 6,
   "metadata": {},
   "outputs": [
    {
     "name": "stdout",
     "output_type": "stream",
     "text": [
      "##############################################################\n",
      "# 0                                  .                      1#\n",
      "#                                    .                       #\n",
      "#                                    .                       #\n",
      "#                                    .                       #\n",
      "#      .                             .                       #\n",
      "#                                    .                       #\n",
      "#                                    .                       #\n",
      "#                                    ........................#\n",
      "#2                                                          3#\n",
      "##############################################################\n",
      "Team(index=0, zone=(0, 30), score=0)\n",
      "\tBot(index=0, initial_pos=(1, 1), team_index=0, homezone=(0, 30), current_pos=(2, 1), noisy=False)\n",
      "\tBot(index=2, initial_pos=(1, 9), team_index=0, homezone=(0, 30), current_pos=(1, 9), noisy=False)\n",
      "Team(index=1, zone=(31, 61), score=0)\n",
      "\tBot(index=1, initial_pos=(60, 1), team_index=1, homezone=(31, 61), current_pos=(60, 1), noisy=False)\n",
      "\tBot(index=3, initial_pos=(60, 9), team_index=1, homezone=(31, 61), current_pos=(60, 9), noisy=False)\n",
      "\n"
     ]
    }
   ],
   "source": [
    "print(game_master.universe.pretty)"
   ]
  },
  {
   "cell_type": "markdown",
   "metadata": {},
   "source": [
    "Our player moved one step. What exacly is our player seeing from here?\n",
    "\n",
    "For example, the player sees the locations of the enemy food:"
   ]
  },
  {
   "cell_type": "code",
   "execution_count": 7,
   "metadata": {},
   "outputs": [
    {
     "name": "stdout",
     "output_type": "stream",
     "text": [
      "[(38, 8), (43, 8), (37, 7), (48, 8), (40, 8), (54, 8), (59, 8), (39, 8), (37, 2), (46, 8), (44, 8), (51, 8), (49, 8), (56, 8), (37, 6), (41, 8), (55, 8), (60, 8), (47, 8), (45, 8), (52, 8), (50, 8), (37, 1), (57, 8), (37, 8), (42, 8), (37, 5), (53, 8), (58, 8), (37, 4), (37, 3)]\n"
     ]
    }
   ],
   "source": [
    "print(player_0.enemy_food)"
   ]
  },
  {
   "cell_type": "markdown",
   "metadata": {},
   "source": [
    "The player also knows the (noisy) position of the enemy bots:"
   ]
  },
  {
   "cell_type": "code",
   "execution_count": 8,
   "metadata": {},
   "outputs": [
    {
     "data": {
      "text/plain": [
       "[Bot(index=1, initial_pos=(60, 1), team_index=1, homezone=(31, 61), current_pos=(60, 3), noisy=True),\n",
       " Bot(index=3, initial_pos=(60, 9), team_index=1, homezone=(31, 61), current_pos=(59, 6), noisy=True)]"
      ]
     },
     "execution_count": 8,
     "metadata": {},
     "output_type": "execute_result"
    }
   ],
   "source": [
    "player_0.enemy_bots"
   ]
  },
  {
   "cell_type": "code",
   "execution_count": 9,
   "metadata": {},
   "outputs": [
    {
     "data": {
      "text/plain": [
       "(60, 3)"
      ]
     },
     "execution_count": 9,
     "metadata": {},
     "output_type": "execute_result"
    }
   ],
   "source": [
    "player_0.enemy_bots[0].current_pos"
   ]
  },
  {
   "cell_type": "markdown",
   "metadata": {},
   "source": [
    "You can verify that it is noisy by checking that on the next round the positions might change although the players didn't move:"
   ]
  },
  {
   "cell_type": "code",
   "execution_count": 10,
   "metadata": {},
   "outputs": [],
   "source": [
    "game_master.play_round()"
   ]
  },
  {
   "cell_type": "code",
   "execution_count": 11,
   "metadata": {},
   "outputs": [
    {
     "data": {
      "text/plain": [
       "[Bot(index=1, initial_pos=(60, 1), team_index=1, homezone=(31, 61), current_pos=(58, 2), noisy=True),\n",
       " Bot(index=3, initial_pos=(60, 9), team_index=1, homezone=(31, 61), current_pos=(57, 9), noisy=True)]"
      ]
     },
     "execution_count": 11,
     "metadata": {},
     "output_type": "execute_result"
    }
   ],
   "source": [
    "player_0.enemy_bots"
   ]
  },
  {
   "cell_type": "code",
   "execution_count": 12,
   "metadata": {},
   "outputs": [
    {
     "name": "stdout",
     "output_type": "stream",
     "text": [
      "##############################################################\n",
      "#  0                                 .                      1#\n",
      "#                                    .                       #\n",
      "#                                    .                       #\n",
      "#                                    .                       #\n",
      "#      .                             .                       #\n",
      "#                                    .                       #\n",
      "#                                    .                       #\n",
      "#                                    ........................#\n",
      "#2                                                          3#\n",
      "##############################################################\n",
      "Team(index=0, zone=(0, 30), score=0)\n",
      "\tBot(index=0, initial_pos=(1, 1), team_index=0, homezone=(0, 30), current_pos=(3, 1), noisy=False)\n",
      "\tBot(index=2, initial_pos=(1, 9), team_index=0, homezone=(0, 30), current_pos=(1, 9), noisy=False)\n",
      "Team(index=1, zone=(31, 61), score=0)\n",
      "\tBot(index=1, initial_pos=(60, 1), team_index=1, homezone=(31, 61), current_pos=(60, 1), noisy=False)\n",
      "\tBot(index=3, initial_pos=(60, 9), team_index=1, homezone=(31, 61), current_pos=(60, 9), noisy=False)\n",
      "\n"
     ]
    }
   ],
   "source": [
    "print(game_master.universe.pretty)"
   ]
  },
  {
   "cell_type": "markdown",
   "metadata": {},
   "source": [
    "What is the `graph` attribute actually useful for? Let's find out:"
   ]
  },
  {
   "cell_type": "code",
   "execution_count": 13,
   "metadata": {},
   "outputs": [
    {
     "name": "stdout",
     "output_type": "stream",
     "text": [
      "[(37, 1), (36, 1), (35, 1), (34, 1), (33, 1), (32, 1), (31, 1), (30, 1), (29, 1), (28, 1), (27, 1), (26, 1), (25, 1), (24, 1), (23, 1), (22, 1), (21, 1), (20, 1), (19, 1), (18, 1), (17, 1), (16, 1), (15, 1), (14, 1), (13, 1), (12, 1), (11, 1), (10, 1), (9, 1), (8, 1), (7, 1), (6, 1), (5, 1), (4, 1), (3, 1)]\n"
     ]
    }
   ],
   "source": [
    "path = player_0.graph.bfs(player_0.current_pos, player_0.enemy_food)\n",
    "print(path)"
   ]
  },
  {
   "cell_type": "markdown",
   "metadata": {},
   "source": [
    "This gives us the shortest path towards all enemy food! Taking the last position gives us the next position we'd like to go:"
   ]
  },
  {
   "cell_type": "code",
   "execution_count": 14,
   "metadata": {},
   "outputs": [
    {
     "data": {
      "text/plain": [
       "(1, 0)"
      ]
     },
     "execution_count": 14,
     "metadata": {},
     "output_type": "execute_result"
    }
   ],
   "source": [
    "next_pos = path[-1]\n",
    "move = diff_pos(player_0.current_pos, next_pos)\n",
    "move"
   ]
  },
  {
   "cell_type": "code",
   "execution_count": 15,
   "metadata": {},
   "outputs": [],
   "source": [
    "# east, west, north, south are nothing more than direction tuples\n",
    "assert move == datamodel.east\n",
    "# shoule be a legal move\n",
    "assert move in player_0.legal_moves"
   ]
  },
  {
   "cell_type": "markdown",
   "metadata": {},
   "source": [
    "### A more complex maze "
   ]
  },
  {
   "cell_type": "code",
   "execution_count": 16,
   "metadata": {},
   "outputs": [],
   "source": [
    "test_layout = (\n",
    "    \"\"\" ##############################################################\n",
    "        #0                 ##                .                      1#\n",
    "        #                  ## ##             .                       #\n",
    "        #                   #  #             .                       #\n",
    "        #                   #  #             .                       #\n",
    "        #      .            #  #             .                       #\n",
    "        #                   #  #             .                       #\n",
    "        #                   #  #             .                       #\n",
    "        #                   #  #             ........................#\n",
    "        #2                     #                                    3#\n",
    "        ##############################################################\n",
    "     \"\"\"\n",
    ")"
   ]
  },
  {
   "cell_type": "code",
   "execution_count": 17,
   "metadata": {},
   "outputs": [],
   "source": [
    "# Start the game\n",
    "game_master = GameMaster(test_layout, teams, 4, 300)\n",
    "universe = game_master.universe\n",
    "game_master.set_initial()"
   ]
  },
  {
   "cell_type": "markdown",
   "metadata": {},
   "source": [
    "Will our bot find its way through it?"
   ]
  },
  {
   "cell_type": "code",
   "execution_count": 18,
   "metadata": {},
   "outputs": [],
   "source": [
    "for _ in range(30):\n",
    "    game_master.play_round()"
   ]
  },
  {
   "cell_type": "code",
   "execution_count": 19,
   "metadata": {},
   "outputs": [
    {
     "name": "stdout",
     "output_type": "stream",
     "text": [
      "##############################################################\n",
      "#                  ##                .                      1#\n",
      "#                  ## ##             .                       #\n",
      "#                   #  #             .                       #\n",
      "#                   #  #             .                       #\n",
      "#      .            #  #             .                       #\n",
      "#                   #  #             .                       #\n",
      "#                   #0 #             .                       #\n",
      "#                   #  #             ........................#\n",
      "#2                     #                                    3#\n",
      "##############################################################\n",
      "Team(index=0, zone=(0, 30), score=0)\n",
      "\tBot(index=0, initial_pos=(1, 1), team_index=0, homezone=(0, 30), current_pos=(21, 7), noisy=False)\n",
      "\tBot(index=2, initial_pos=(1, 9), team_index=0, homezone=(0, 30), current_pos=(1, 9), noisy=False)\n",
      "Team(index=1, zone=(31, 61), score=0)\n",
      "\tBot(index=1, initial_pos=(60, 1), team_index=1, homezone=(31, 61), current_pos=(60, 1), noisy=False)\n",
      "\tBot(index=3, initial_pos=(60, 9), team_index=1, homezone=(31, 61), current_pos=(60, 9), noisy=False)\n",
      "\n"
     ]
    }
   ],
   "source": [
    "print(game_master.universe.pretty)"
   ]
  },
  {
   "cell_type": "markdown",
   "metadata": {},
   "source": [
    "Looks like it! Let the game run until the end:"
   ]
  },
  {
   "cell_type": "code",
   "execution_count": 20,
   "metadata": {},
   "outputs": [],
   "source": [
    "game_master.play()"
   ]
  },
  {
   "cell_type": "code",
   "execution_count": 21,
   "metadata": {},
   "outputs": [
    {
     "name": "stdout",
     "output_type": "stream",
     "text": [
      "##############################################################\n",
      "#                  ##                                       1#\n",
      "#                  ## ##                                     #\n",
      "#                   #  #                                     #\n",
      "#                   #  #                                     #\n",
      "#      .            #  #                                     #\n",
      "#                   #  #                                     #\n",
      "#                   #  #                                     #\n",
      "#                   #  #                                    0#\n",
      "#2                     #                                    3#\n",
      "##############################################################\n",
      "Team(index=0, zone=(0, 30), score=31)\n",
      "\tBot(index=0, initial_pos=(1, 1), team_index=0, homezone=(0, 30), current_pos=(60, 8), noisy=False)\n",
      "\tBot(index=2, initial_pos=(1, 9), team_index=0, homezone=(0, 30), current_pos=(1, 9), noisy=False)\n",
      "Team(index=1, zone=(31, 61), score=0)\n",
      "\tBot(index=1, initial_pos=(60, 1), team_index=1, homezone=(31, 61), current_pos=(60, 1), noisy=False)\n",
      "\tBot(index=3, initial_pos=(60, 9), team_index=1, homezone=(31, 61), current_pos=(60, 9), noisy=False)\n",
      "\n"
     ]
    }
   ],
   "source": [
    "print(game_master.universe.pretty)"
   ]
  },
  {
   "cell_type": "markdown",
   "metadata": {},
   "source": [
    "### A more aggressive player "
   ]
  },
  {
   "cell_type": "markdown",
   "metadata": {},
   "source": [
    "Let's make the opponent team a little more active:"
   ]
  },
  {
   "cell_type": "code",
   "execution_count": 22,
   "metadata": {},
   "outputs": [],
   "source": [
    "from pelita.graph import manhattan_dist\n",
    "import numpy as np\n",
    "\n",
    "class AggressivePlayer(AbstractPlayer):\n",
    "\n",
    "    def set_initial(self):\n",
    "        self.graph = Graph(self.current_uni.reachable([self.initial_pos]))\n",
    "\n",
    "    def goto_pos(self, pos):\n",
    "        return self.graph.a_star(self.current_pos, pos)[-1]\n",
    "\n",
    "    def get_move(self):\n",
    "        \n",
    "        # Take the closest enemy\n",
    "        dis = []\n",
    "        for enemy in self.enemy_bots:\n",
    "            dis.append(manhattan_dist(self.current_pos, enemy.current_pos))\n",
    "        enemy = self.enemy_bots[np.argmin(dis)]\n",
    "\n",
    "        try:\n",
    "            next_pos = self.goto_pos(enemy.current_pos)\n",
    "            # Check if the next_pos is on the wrong side of the maze\n",
    "            if not self.team.in_zone(next_pos):\n",
    "                # whoops, better not move\n",
    "                move = datamodel.stop\n",
    "            else:\n",
    "                move = diff_pos(self.current_pos, next_pos)\n",
    "            # Check that it is one of all possible moves, else stop\n",
    "            if move in self.legal_moves:\n",
    "                return move\n",
    "            else:\n",
    "                return datamodel.stop\n",
    "        except NoPathException:\n",
    "            return datamodel.stop"
   ]
  },
  {
   "cell_type": "code",
   "execution_count": 23,
   "metadata": {},
   "outputs": [],
   "source": [
    "# Make the team\n",
    "player_0 = FastEatingPlayer()\n",
    "player_1 = StoppingPlayer()\n",
    "player_2 = StoppingPlayer()\n",
    "player_3 = AggressivePlayer()\n",
    "teams = [\n",
    "    SimpleTeam('One', player_0, player_2),\n",
    "    SimpleTeam('Two', player_1, player_3)\n",
    "]\n",
    "\n",
    "# Start the game\n",
    "game_master = GameMaster(test_layout, teams, 4, 300)\n",
    "universe = game_master.universe\n",
    "game_master.set_initial()"
   ]
  },
  {
   "cell_type": "markdown",
   "metadata": {},
   "source": [
    "But stalking enemies is dangerous! See what happens in this game:"
   ]
  },
  {
   "cell_type": "code",
   "execution_count": 24,
   "metadata": {},
   "outputs": [
    {
     "name": "stdout",
     "output_type": "stream",
     "text": [
      "##############################################################\n",
      "#                  ##    0           .                      1#\n",
      "#                  ## ##             .                       #\n",
      "#                   #  #             .                       #\n",
      "#                   #  #             .                       #\n",
      "#      .            #  #             .                       #\n",
      "#                   #  #             .                       #\n",
      "#                   #  #             .                       #\n",
      "#                   #  #             ........................#\n",
      "#2                     #       3                             #\n",
      "##############################################################\n",
      "Team(index=0, zone=(0, 30), score=0)\n",
      "\tBot(index=0, initial_pos=(1, 1), team_index=0, homezone=(0, 30), current_pos=(25, 1), noisy=False)\n",
      "\tBot(index=2, initial_pos=(1, 9), team_index=0, homezone=(0, 30), current_pos=(1, 9), noisy=False)\n",
      "Team(index=1, zone=(31, 61), score=0)\n",
      "\tBot(index=1, initial_pos=(60, 1), team_index=1, homezone=(31, 61), current_pos=(60, 1), noisy=False)\n",
      "\tBot(index=3, initial_pos=(60, 9), team_index=1, homezone=(31, 61), current_pos=(31, 9), noisy=False)\n",
      "\n"
     ]
    }
   ],
   "source": [
    "for _ in range(40):\n",
    "    game_master.play_round()\n",
    "print(game_master.universe.pretty)"
   ]
  },
  {
   "cell_type": "code",
   "execution_count": 25,
   "metadata": {},
   "outputs": [
    {
     "name": "stdout",
     "output_type": "stream",
     "text": [
      "##############################################################\n",
      "#                  ##            0   .                      1#\n",
      "#                  ## ##             .                       #\n",
      "#                   #  #             .                       #\n",
      "#                   #  #             .                       #\n",
      "#      .            #  #             .                       #\n",
      "#                   #  #       3     .                       #\n",
      "#                   #  #             .                       #\n",
      "#                   #  #             ........................#\n",
      "#2                     #                                     #\n",
      "##############################################################\n",
      "Team(index=0, zone=(0, 30), score=0)\n",
      "\tBot(index=0, initial_pos=(1, 1), team_index=0, homezone=(0, 30), current_pos=(33, 1), noisy=False)\n",
      "\tBot(index=2, initial_pos=(1, 9), team_index=0, homezone=(0, 30), current_pos=(1, 9), noisy=False)\n",
      "Team(index=1, zone=(31, 61), score=0)\n",
      "\tBot(index=1, initial_pos=(60, 1), team_index=1, homezone=(31, 61), current_pos=(60, 1), noisy=False)\n",
      "\tBot(index=3, initial_pos=(60, 9), team_index=1, homezone=(31, 61), current_pos=(31, 6), noisy=False)\n",
      "\n"
     ]
    }
   ],
   "source": [
    "for _ in range(8):\n",
    "    game_master.play_round()\n",
    "print(game_master.universe.pretty)"
   ]
  },
  {
   "cell_type": "code",
   "execution_count": 26,
   "metadata": {},
   "outputs": [
    {
     "name": "stdout",
     "output_type": "stream",
     "text": [
      "##############################################################\n",
      "#                  ##                                       1#\n",
      "#                  ## ##                                     #\n",
      "#                   #  #                                     #\n",
      "#                   #  #                                     #\n",
      "#      .            #  #        3    0                       #\n",
      "#                   #  #             .                       #\n",
      "#                   #  #             .                       #\n",
      "#                   #  #             ........................#\n",
      "#2                     #                                     #\n",
      "##############################################################\n",
      "Team(index=0, zone=(0, 30), score=5)\n",
      "\tBot(index=0, initial_pos=(1, 1), team_index=0, homezone=(0, 30), current_pos=(37, 5), noisy=False)\n",
      "\tBot(index=2, initial_pos=(1, 9), team_index=0, homezone=(0, 30), current_pos=(1, 9), noisy=False)\n",
      "Team(index=1, zone=(31, 61), score=0)\n",
      "\tBot(index=1, initial_pos=(60, 1), team_index=1, homezone=(31, 61), current_pos=(60, 1), noisy=False)\n",
      "\tBot(index=3, initial_pos=(60, 9), team_index=1, homezone=(31, 61), current_pos=(32, 5), noisy=False)\n",
      "\n"
     ]
    }
   ],
   "source": [
    "for _ in range(8):\n",
    "    game_master.play_round()\n",
    "print(game_master.universe.pretty)"
   ]
  },
  {
   "cell_type": "markdown",
   "metadata": {},
   "source": [
    "**The bot will never be able to catch it!** Having completely deterministic moves might be contra-productive sometimes."
   ]
  },
  {
   "cell_type": "markdown",
   "metadata": {},
   "source": [
    "## What's next? "
   ]
  },
  {
   "cell_type": "markdown",
   "metadata": {},
   "source": [
    "Now it's your turn! Try to use these players in real games to visualize the outcome, and start to define new strategies! \n",
    "\n",
    "Here some further tips:\n",
    "- Mazes don’t have dead-ends\n",
    "- It's hard to catch another bot which outruns you: bots can combine their powers and attack from two sides\n",
    "- Think about shortest-path algorithms\n",
    "- Keep track of opponents\n",
    "- Investigate communication between the Players\n",
    "- Re-use your code\n",
    "- Think about working in a team"
   ]
  },
  {
   "cell_type": "markdown",
   "metadata": {},
   "source": [
    "Back to the [table of contents](00-Introduction.ipynb#ctoc)."
   ]
  }
 ],
 "metadata": {
  "hide_input": false,
  "kernelspec": {
   "display_name": "Python 3",
   "language": "python",
   "name": "python3"
  },
  "language_info": {
   "codemirror_mode": {
    "name": "ipython",
    "version": 3
   },
   "file_extension": ".py",
   "mimetype": "text/x-python",
   "name": "python",
   "nbconvert_exporter": "python",
   "pygments_lexer": "ipython3",
   "version": "3.5.2"
  },
  "toc": {
   "base_numbering": "28",
   "nav_menu": {},
   "number_sections": true,
   "sideBar": true,
   "skip_h1_title": false,
   "title_cell": "Table of Contents",
   "title_sidebar": "Contents",
   "toc_cell": true,
   "toc_position": {
    "height": "750px",
    "left": "29px",
    "top": "111px",
    "width": "345px"
   },
   "toc_section_display": true,
   "toc_window_display": true
  }
 },
 "nbformat": 4,
 "nbformat_minor": 2
}
