{
 "cells": [
  {
   "cell_type": "markdown",
   "metadata": {},
   "source": [
    "# Assignment #06: small numpy exercises for doing Big Science"
   ]
  },
  {
   "cell_type": "markdown",
   "metadata": {},
   "source": [
    "## Exercise #06-01: indexing"
   ]
  },
  {
   "cell_type": "markdown",
   "metadata": {},
   "source": [
    "Given a 2D numpy array defined as:"
   ]
  },
  {
   "cell_type": "code",
   "execution_count": 1,
   "metadata": {},
   "outputs": [],
   "source": [
    "import numpy as np\n",
    "x = np.array([[1, 2, 3],\n",
    "              [4, 5, 6]])"
   ]
  },
  {
   "cell_type": "markdown",
   "metadata": {},
   "source": [
    "The following indexing operations all select the same values out of the array:\n",
    "- ``x[:, 1]``\n",
    "- ``x[slice(0, 2, 1), 1]``\n",
    "- ``x[(slice(0, 2, 1), 1)]``\n",
    "- ``x[slice(0, 2, 1), slice(1, 2, 1)]``\n",
    "- ``x[..., 1]``\n",
    "- ``x[::1, 1]``\n",
    "- ``x[[0, 1], 1]``\n",
    "- ``x[:, -2]``\n",
    "- ``x[:, 1:2]``\n",
    "- ``x[:, [1]]``"
   ]
  },
  {
   "cell_type": "markdown",
   "metadata": {},
   "source": [
    "This can be checked with the following test:"
   ]
  },
  {
   "cell_type": "code",
   "execution_count": 2,
   "metadata": {},
   "outputs": [],
   "source": [
    "from numpy.testing import assert_equal\n",
    "\n",
    "ref = 7\n",
    "\n",
    "assert_equal(ref, x[:, 1].sum())\n",
    "assert_equal(ref, x[..., 1].sum())\n",
    "assert_equal(ref, x[::1, 1].sum())\n",
    "assert_equal(ref, x[slice(0, 2, 1), 1].sum())\n",
    "assert_equal(ref, x[(slice(0, 2, 1), 1)].sum())\n",
    "assert_equal(ref, x[slice(0, 2, 1), slice(1, 2, 1)].sum())\n",
    "assert_equal(ref, x[[0, 1], 1].sum())\n",
    "assert_equal(ref, x[:, -2].sum())\n",
    "assert_equal(ref, x[:, 1:2].sum())\n",
    "assert_equal(ref, x[:, [1]].sum())"
   ]
  },
  {
   "cell_type": "markdown",
   "metadata": {},
   "source": [
    "**Questions:**\n",
    "- **What is the ``...`` syntax doing? Again, it is the literal equivalent of an actual python object: what is it?**\n",
    "- **some of these indexing operations are truly equivalent to the \"obvious\" one, ``x[:, 1]``. List them.**\n",
    "- **Classify these operations (i) in basic and advanced operations, and (ii) by the shape of their output. Explain.**\n",
    "- **I'd like my array ``a = x[:, 1:2]`` to have a shape of (2, ) like most of the other operations listed above. What can I do to reshape it?**"
   ]
  },
  {
   "cell_type": "markdown",
   "metadata": {},
   "source": [
    "## Exercise #06-02: the difference"
   ]
  },
  {
   "cell_type": "markdown",
   "metadata": {},
   "source": [
    "Consider the following example:"
   ]
  },
  {
   "cell_type": "code",
   "execution_count": 3,
   "metadata": {},
   "outputs": [],
   "source": [
    "a = np.array([1, 2, 3])\n",
    "b = a\n",
    "c = a\n",
    "\n",
    "b = a - 10\n",
    "c -= 100"
   ]
  },
  {
   "cell_type": "markdown",
   "metadata": {},
   "source": [
    "**What will be the values printed by ``print(a, b, c)`` after this code snippet? Explain.**"
   ]
  },
  {
   "cell_type": "markdown",
   "metadata": {},
   "source": [
    "## Exercise #06-03: Greenwich"
   ]
  },
  {
   "cell_type": "markdown",
   "metadata": {},
   "source": [
    "[ERA-Interim reanalysis](https://www.ecmwf.int/en/forecasts/datasets/archive-datasets/reanalysis-datasets/era-interim) provides global atmospheric fields from 1979 to today. Someone prepared a grid of average temperature available here:"
   ]
  },
  {
   "cell_type": "code",
   "execution_count": 4,
   "metadata": {},
   "outputs": [],
   "source": [
    "from urllib.request import Request, urlopen\n",
    "from io import BytesIO\n",
    "import json\n",
    "\n",
    "# Parse the given url\n",
    "url = 'https://github.com/fmaussion/scientific_programming/raw/master/data/monthly_temp.npz'\n",
    "req = urlopen(Request(url)).read()\n",
    "with np.load(BytesIO(req)) as data:\n",
    "    temp = data['temp']\n",
    "    lon = data['lon']\n",
    "    lat = data['lat']"
   ]
  },
  {
   "cell_type": "markdown",
   "metadata": {},
   "source": [
    "However, the data is not well processed! The longitudes are ranging from 0 to 360°, thus cutting UK and Africa in half! Reorganize the data and the corresponding coordinate to obtain a plot similar to this one:"
   ]
  },
  {
   "cell_type": "markdown",
   "metadata": {},
   "source": [
    "<img src=\"../img/18_temp_pic.png\" align='left'>"
   ]
  },
  {
   "cell_type": "markdown",
   "metadata": {},
   "source": [
    "*Back to the [table of contents](00-Introduction.ipynb#ctoc)*"
   ]
  }
 ],
 "metadata": {
  "hide_input": false,
  "kernelspec": {
   "display_name": "Python 3",
   "language": "python",
   "name": "python3"
  },
  "language_info": {
   "codemirror_mode": {
    "name": "ipython",
    "version": 3
   },
   "file_extension": ".py",
   "mimetype": "text/x-python",
   "name": "python",
   "nbconvert_exporter": "python",
   "pygments_lexer": "ipython3",
   "version": "3.5.2"
  },
  "toc": {
   "base_numbering": 1,
   "nav_menu": {},
   "number_sections": false,
   "sideBar": true,
   "skip_h1_title": false,
   "title_cell": "Table of Contents",
   "title_sidebar": "Contents",
   "toc_cell": false,
   "toc_position": {},
   "toc_section_display": "block",
   "toc_window_display": false
  }
 },
 "nbformat": 4,
 "nbformat_minor": 2
}
