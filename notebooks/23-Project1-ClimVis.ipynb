{
 "cells": [
  {
   "cell_type": "markdown",
   "metadata": {},
   "source": [
    "# Project #1: the ClimVis package"
   ]
  },
  {
   "cell_type": "markdown",
   "metadata": {},
   "source": [
    "For this first project, all groups will send me their solution (one ``.zip`` file per group containing their version of the climvis package) and I will provide feedback for each solution. This project will count for 30% of the final grade.\n",
    "\n",
    "**The deadline for submission is the first Tuesday after the Christmas break.**\n",
    "\n",
    "Here are the points I will take into account for the grading:\n",
    "- code quality: documentation, comments, tests, compliance to pep8\n",
    "- traceability of group work: who did what, are the author(s) name(s) provided in the function's docstrings\n",
    "- level and complexity of the implemented tools (i.e. amount of programming work)\n",
    "- originality of the implemented tools"
   ]
  },
  {
   "cell_type": "markdown",
   "metadata": {},
   "source": [
    "## The climvis package"
   ]
  },
  {
   "cell_type": "markdown",
   "metadata": {},
   "source": [
    "I've written a small package called **climvis**. Its design is based on the [template package](https://github.com/fmaussion/scispack), but this time it really does something.\n",
    "\n",
    "**Download the zipped package from [here](https://github.com/fmaussion/climvis/archive/master.zip) and extract it. Read the README and the package requirements first. You will have to install the [motionless](https://github.com/ryancox/motionless) package for it to work: it is not available on conda, but you can install it with: `pip install motionless`** (if you have an [obscure error](https://github.com/conda-forge/testpath-feedstock/issues/7) at `pip install ...`, update testpath first with `conda install testpath`)\n",
    "\n",
    "**Now install climvis in development mode. If you are working on your own computer:**\n",
    "\n",
    "    pip install -e .\n",
    "    \n",
    "From the root directory. **If you are working on the university computer, do:**\n",
    "\n",
    "    pip install --user -e ."
   ]
  },
  {
   "cell_type": "markdown",
   "metadata": {},
   "source": [
    "**Try the command line interface (``cruvis -h``) from a terminal. Now explore ``setup.py``: can you identify what makes the command available from the terminal? Where is the code executing the command ``cruvis``?**"
   ]
  },
  {
   "cell_type": "markdown",
   "metadata": {},
   "source": [
    "**Familiarize yourself with the tool. Can you understand what the role of each function is?**"
   ]
  },
  {
   "cell_type": "markdown",
   "metadata": {},
   "source": [
    "**Can you run the tests successfully? Probably not. Somewhere in ``cfg.py``, a hard coded path is pointing to a non-existing directory.**\n",
    "\n",
    "**If you are working on your own computer, change the path to a local folder of yours and download the necessary data:**\n",
    "- [temperature](https://crudata.uea.ac.uk/cru/data/hrg/cru_ts_4.01/cruts.1709081022.v4.01/tmp/cru_ts4.01.1901.2016.tmp.dat.nc.gz)\n",
    "- [precipitation](https://crudata.uea.ac.uk/cru/data/hrg/cru_ts_4.01/cruts.1709081022.v4.01/pre/cru_ts4.01.1901.2016.pre.dat.nc.gz)\n",
    "- [elevation](https://cluster.klima.uni-bremen.de/~fmaussion/misc/cru_cl1_topography.nc)\n",
    "\n",
    "**Careful! The total decompressed output is about 6GB large.**\n",
    "\n",
    "\n",
    "**If you are working on the university computer, a folder containing the data is available at:**\n",
    "\n",
    "    /scratch/c707/c7071047/data-scipro/\n",
    "\n",
    "**The scratch folder contains only a subset of the data (Central Europe): the tools works for these locations, but not globally.**"
   ]
  },
  {
   "cell_type": "markdown",
   "metadata": {},
   "source": [
    "Make sure you are able to run the command succesfully before going on. For example, ``cruvis -l 12 47`` should work fine and display a page in your browser."
   ]
  },
  {
   "cell_type": "markdown",
   "metadata": {},
   "source": [
    "## Guided exercise: make the tool more robust"
   ]
  },
  {
   "cell_type": "markdown",
   "metadata": {},
   "source": [
    "Here are a couple of smaller tasks to get you started:\n",
    "- The hard coded path in ``cfg.py`` is very ugly. At the same time, we really need the CRU data for the tool to run! Add a safety check in the code in order to make sure the files are available. If the CRU files are not available, print the following message and exit the program:\n",
    "\n",
    "   ``The CRU files are not available on this system. For cruvis to work properly, please create a file called \".cruvis\" in your HOME directory, and indicate the path to the CRU directory in it.``\n",
    "\n",
    "\n",
    "- Add a small function in ``cfg.py`` which parses this new ``.cruvis`` file and uses the given directory in place of the hard-coded one. Tip: you could make good use of [os.path.expanduser](https://docs.python.org/3/library/os.path.html#os.path.expanduser) for this function.\n",
    "\n",
    "- Selecting a location over the oceans will raise a very uninformative python error message. Make the ``write_html`` function more robust: if the data contains NaNs, print a warning and exit the program.\n",
    " "
   ]
  },
  {
   "cell_type": "markdown",
   "metadata": {},
   "source": [
    "## Project: make the tool better"
   ]
  },
  {
   "cell_type": "markdown",
   "metadata": {},
   "source": [
    "Now you should be ready to contribute to this great package! **Add at least N simple functionalities** to it, where N depends on your group size: $N=G_S-1$ with $G_S$ your group size (2, 3, or 4). This functionality can be anything you want, as long as it makes you write some code. \n",
    "\n",
    "Here are some ideas of functionalities that you can adapt at wish:\n",
    "- you could add a plot of the 1901-2016 timeseries for this grid point, and make a trend analysis for the period.\n",
    "- you could add a new command to the tool called ``uibkvis``, which instead plots the data from the UIBK weather stations. For example, you could plot the temperature for all stations, or even better: give choices to the user as to what they want to plot. You'll have to document its command line options of course. You can get inspiration from [last year's excercise](https://fabienmaussion.info/scipro_ss2018/html/12-Assignment-03.html#Exercise-#03-02:-ACINN-meteorological-data), which we didn't have time to do this year.\n",
    "- you could redo the plots from the [ACINN webpage](http://acinn.uibk.ac.at/current-weather/innsbruck-university), but better?\n",
    "- you could use a python [windrose](https://github.com/python-windrose/windrose) package to plot a windrose from the uibk data, and maybe extend assignment 08 to produce a webpage (instead of the sentence it produces now)  \n",
    "- you could add an option to ``cruvis``, which accepts a city name instead of the lon and lat of the point. You could use the file shipped with the package for this (`world_cities.csv`).\n",
    "- you could add a new command line tool to compare the climate at two locations.\n",
    "- you could parse any other data you'd find interesting from the web and plot it! For example, [upper air soundings](http://weather.uwyo.edu/upperair/sounding.html)? \n",
    "- you could use an interactive plotting library like [Bokeh](https://bokeh.pydata.org) or [Plotly](https://plot.ly/python/) to make reactive plots in your HTML page.\n",
    "- etc!"
   ]
  },
  {
   "cell_type": "markdown",
   "metadata": {},
   "source": [
    "Some tasks are more difficult than others. I don't mind if you take an easy one, as long as you write something on your own, and write good code. You are working as a group, so split the tasks between the group members!"
   ]
  },
  {
   "cell_type": "markdown",
   "metadata": {},
   "source": [
    "*Back to the [table of contents](00-Introduction.ipynb#ctoc)*"
   ]
  }
 ],
 "metadata": {
  "hide_input": false,
  "kernelspec": {
   "display_name": "Python 3",
   "language": "python",
   "name": "python3"
  },
  "language_info": {
   "codemirror_mode": {
    "name": "ipython",
    "version": 3
   },
   "file_extension": ".py",
   "mimetype": "text/x-python",
   "name": "python",
   "nbconvert_exporter": "python",
   "pygments_lexer": "ipython3",
   "version": "3.5.2"
  },
  "toc": {
   "base_numbering": 1,
   "nav_menu": {},
   "number_sections": false,
   "sideBar": true,
   "skip_h1_title": false,
   "title_cell": "Table of Contents",
   "title_sidebar": "Contents",
   "toc_cell": false,
   "toc_position": {},
   "toc_section_display": "block",
   "toc_window_display": false
  }
 },
 "nbformat": 4,
 "nbformat_minor": 2
}
