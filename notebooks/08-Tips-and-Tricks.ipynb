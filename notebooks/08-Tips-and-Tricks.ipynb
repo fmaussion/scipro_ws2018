{
 "cells": [
  {
   "cell_type": "markdown",
   "metadata": {},
   "source": [
    "# Tips and tricks"
   ]
  },
  {
   "cell_type": "markdown",
   "metadata": {},
   "source": [
    "At this stage of the lecture, you are now equipped to write more complex scripts and algorithms. You know everything you need to know about the syntax (almost ;-)), but you might be a little lost in all the possibilities the language is now offering to you. *Which tool should I use to do this and that? How was this function signature again?* This chapter will briefly give you some tips to help you out during your assignments."
   ]
  },
  {
   "cell_type": "markdown",
   "metadata": {
    "toc": true
   },
   "source": [
    "<h1>Table of Contents<span class=\"tocSkip\"></span></h1>\n",
    "<div class=\"toc\"><ul class=\"toc-item\"><li><span><a href=\"#Tips-and-tricks\" data-toc-modified-id=\"Tips-and-tricks-8\"><span class=\"toc-item-num\">8&nbsp;&nbsp;</span>Tips and tricks</a></span><ul class=\"toc-item\"><li><span><a href=\"#Batteries-included\" data-toc-modified-id=\"Batteries-included-8.1\"><span class=\"toc-item-num\">8.1&nbsp;&nbsp;</span>Batteries included</a></span></li><li><span><a href=\"#Getting-help\" data-toc-modified-id=\"Getting-help-8.2\"><span class=\"toc-item-num\">8.2&nbsp;&nbsp;</span>Getting help</a></span><ul class=\"toc-item\"><li><span><a href=\"#Online-resources\" data-toc-modified-id=\"Online-resources-8.2.1\"><span class=\"toc-item-num\">8.2.1&nbsp;&nbsp;</span>Online resources</a></span></li><li><span><a href=\"#Ask-questions-the-smart-way\" data-toc-modified-id=\"Ask-questions-the-smart-way-8.2.2\"><span class=\"toc-item-num\">8.2.2&nbsp;&nbsp;</span>Ask questions the smart way</a></span></li><li><span><a href=\"#Getting-help-VS-learning\" data-toc-modified-id=\"Getting-help-VS-learning-8.2.3\"><span class=\"toc-item-num\">8.2.3&nbsp;&nbsp;</span>Getting help VS learning</a></span></li></ul></li><li><span><a href=\"#Python-IDEs\" data-toc-modified-id=\"Python-IDEs-8.3\"><span class=\"toc-item-num\">8.3&nbsp;&nbsp;</span>Python IDEs</a></span></li><li><span><a href=\"#What's-next?\" data-toc-modified-id=\"What's-next?-8.4\"><span class=\"toc-item-num\">8.4&nbsp;&nbsp;</span>What's next?</a></span></li></ul></li></ul></div>"
   ]
  },
  {
   "cell_type": "markdown",
   "metadata": {},
   "source": [
    "## Batteries included "
   ]
  },
  {
   "cell_type": "markdown",
   "metadata": {},
   "source": [
    "You may have read this expression (\"batteries included\") during your research about the Python language. It is widely used to indicate that if you choose python, it's not only for it's syntax: it is for all the tools that come with it. And there are PLENTY.\n",
    "\n",
    "Spend a minute or two to scroll through the list of tools available in the [standard library](https://docs.python.org/3/library/index.html). The **standard library** is available per default with any python installation. It is very robust and provides the core functionality of the language.\n",
    "\n",
    "As you will see, there is not much for us scientists in this list though. This is why **third party packages** were developed. And there are so many of them that one can easily be overwhelmed: for this week's assignment we will use the standard library only."
   ]
  },
  {
   "cell_type": "markdown",
   "metadata": {},
   "source": [
    "## Getting help"
   ]
  },
  {
   "cell_type": "markdown",
   "metadata": {},
   "source": [
    "In order to become a good programmer, **nothing is more important than being able to find help**, either online or with your friends and colleagues."
   ]
  },
  {
   "cell_type": "markdown",
   "metadata": {},
   "source": [
    "### Online resources "
   ]
  },
  {
   "cell_type": "markdown",
   "metadata": {},
   "source": [
    "Fortunately, getting help has become quite easy nowadays. Here are some resources to get you started:\n",
    "- the [official python documentation](https://docs.python.org/3/) is definitely the best place to look for everything related to the standard library. It is also THE reference, and as such can sometimes be too detailed or complex. If this fails, then you'll have to refer to \n",
    "- **your favorite search engine**. Ask your question as precisely as possible! With some experience you'll learn to detect the sources you can trust, and learn to filter out outdated information (e.g. related to python 2). Very often your web search will lead you to\n",
    "- [Stackoverflow](https://stackoverflow.com/). In recent years, the Stack Exchange community of sites has emerged as a major resource for answering technical and other questions and is even the preferred forum for many open-source projects. Their system of rewards for well formulated questions and correct answers clearly makes finding the right solution easier than in many other forums."
   ]
  },
  {
   "cell_type": "markdown",
   "metadata": {},
   "source": [
    "Here is a general rule. When you encounter a problem, ask yourself the following question: **is it likely that someone else had this problem before me?** In a large majority of the cases, the answer will be \"yes\" (believe me on this one). The trick is to find the answer to your question: use as few words as possible, but put in all the keywords that makes your question unambiguous. Here is the example outcome of two google searches:\n",
    "- [how to download a file python](https://www.google.at/search?q=how+to+download+a+file+python)\n",
    "- [how to download a file python3](https://www.google.at/search?q=how+to+download+a+file+python3)\n",
    "\n",
    "The latter is the one you want and will lead you to the right answer. With time, you are going to get used to using the search engine more efficiently, but if everything else fails, then you might have to as ask a question yourself."
   ]
  },
  {
   "cell_type": "markdown",
   "metadata": {},
   "source": [
    "### Ask questions the smart way"
   ]
  },
  {
   "cell_type": "markdown",
   "metadata": {},
   "source": [
    "If you want to ask a question on stackoverflow or somewhere else (e.g. by sending an email at your teacher), please spend some time reading [this resource](http://www.catb.org/esr/faqs/smart-questions.html). Believe me, this will help you to get better answers!"
   ]
  },
  {
   "cell_type": "markdown",
   "metadata": {},
   "source": [
    "### Getting help VS learning "
   ]
  },
  {
   "cell_type": "markdown",
   "metadata": {},
   "source": [
    "I'll make a confession: without an internet connection, I am a very bad python programmer. And I don't expect you to learn all the python commands by heart and solve the assignments without online help. However, there is a difference between \"getting help to find how to realize a specific task\" and \"asking for someone to do my homework for me\". The border between the two might be subtle, but I'm sure you'll know when you cross it: at the moment you stopped to use your brain and simply copy/pasted code from one site to your assignment script, you crossed it."
   ]
  },
  {
   "cell_type": "markdown",
   "metadata": {},
   "source": [
    "## Python IDEs"
   ]
  },
  {
   "cell_type": "markdown",
   "metadata": {},
   "source": [
    "While it is possible to write python programs using a basic text editor, the majority of you will find it useful to use an [integrated development environment](https://en.wikipedia.org/wiki/Integrated_development_environment) (short: IDE) instead. The advantages of IDEs is that they ship with tools that make your life easier when programming. Here is a non-exhaustive list of the tools a good IDE should have:\n",
    "- <a href=\"https://en.wikipedia.org/wiki/Lint_(software)\">linter</a>: automatic detection of syntax errors and style violations\n",
    "- [debugger](https://en.wikipedia.org/wiki/Debugger)\n",
    "- [Intelligent code completion](https://en.wikipedia.org/wiki/Intelligent_code_completion)\n",
    "- project explorer and code exploration tools\n",
    "- for interactive languages: a command line and variables \n",
    "- version control tools\n",
    "- automated build and testing tools\n",
    "- appealing colors and graphics\n",
    "- ... \n",
    "\n",
    "There are many Python IDEs, but here are some of the ones that come up most often as recommendations on forums or blogposts:\n",
    "- [Spyder](https://pythonhosted.org/spyder/): the IDE made by and for scientists. It resembles the Matlab IDE and has many nice features such as variable exploration and an integrated ipython console. It is very easy to install with conda, and is therefore available on linux at the university (``$ spyder &``). **It is my recommended IDE for this semester's course**.\n",
    "- [PyCharm](https://www.jetbrains.com/pycharm/): this is my current personal favorite. It is however quite heavyweight and can be confusing for beginners.\n",
    "- [Atom](https://atom.io/): a modern, very nice looking editor. Useful if you program in more than one language, but you must install additional packages to transform it in a real IDE\n",
    "- [vim](https://www.vim.org/) or [emacs](https://www.gnu.org/software/emacs/): for people allergic to the mouse. Not recommended for most of us, but the people who learned to use them are (allegedly) the fastest programmers ever."
   ]
  },
  {
   "cell_type": "markdown",
   "metadata": {},
   "source": [
    "## What's next? "
   ]
  },
  {
   "cell_type": "markdown",
   "metadata": {},
   "source": [
    "Back to the [table of contents](00-Introduction.ipynb#ctoc), or [jump to the next chapter](09-Good-practices.ipynb)."
   ]
  }
 ],
 "metadata": {
  "hide_input": false,
  "kernelspec": {
   "display_name": "Python 3",
   "language": "python",
   "name": "python3"
  },
  "language_info": {
   "codemirror_mode": {
    "name": "ipython",
    "version": 3
   },
   "file_extension": ".py",
   "mimetype": "text/x-python",
   "name": "python",
   "nbconvert_exporter": "python",
   "pygments_lexer": "ipython3",
   "version": "3.5.2"
  },
  "toc": {
   "base_numbering": "8",
   "nav_menu": {},
   "number_sections": true,
   "sideBar": true,
   "skip_h1_title": false,
   "title_cell": "Table of Contents",
   "title_sidebar": "Contents",
   "toc_cell": true,
   "toc_position": {
    "height": "calc(100% - 180px)",
    "left": "10px",
    "top": "150px",
    "width": "384px"
   },
   "toc_section_display": "block",
   "toc_window_display": true
  }
 },
 "nbformat": 4,
 "nbformat_minor": 2
}
