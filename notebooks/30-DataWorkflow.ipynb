{
 "cells": [
  {
   "cell_type": "markdown",
   "metadata": {},
   "source": [
    "# The scientific data analysis workflow"
   ]
  },
  {
   "cell_type": "markdown",
   "metadata": {},
   "source": [
    "In this lecture I will write down some basic principles which might come handy when analyzing data of any kind in your thesis or any class project.\n",
    "\n",
    "It's not ready yet, though ;-)"
   ]
  },
  {
   "cell_type": "markdown",
   "metadata": {
    "toc": true
   },
   "source": [
    "<h1>Table of Contents<span class=\"tocSkip\"></span></h1>\n",
    "<div class=\"toc\"><ul class=\"toc-item\"><li><span><a href=\"#The-scientific-data-analysis-workflow\" data-toc-modified-id=\"The-scientific-data-analysis-workflow-30\"><span class=\"toc-item-num\">30&nbsp;&nbsp;</span>The scientific data analysis workflow</a></span><ul class=\"toc-item\"><li><span><a href=\"#A-typical-workflow\" data-toc-modified-id=\"A-typical-workflow-30.1\"><span class=\"toc-item-num\">30.1&nbsp;&nbsp;</span>A typical workflow</a></span></li><li><span><a href=\"#What's-next?\" data-toc-modified-id=\"What's-next?-30.2\"><span class=\"toc-item-num\">30.2&nbsp;&nbsp;</span>What's next?</a></span></li></ul></li></ul></div>"
   ]
  },
  {
   "cell_type": "markdown",
   "metadata": {},
   "source": [
    "## A typical workflow"
   ]
  },
  {
   "cell_type": "markdown",
   "metadata": {},
   "source": [
    "Almost all data analysis workflows are done with the same scheme:\n",
    "1. read the data\n",
    "2. cleanse it\n",
    "3. process it (add value to the data, e.g. diagnostics)\n",
    "4. reduce it\n",
    "5. plot it\n",
    "6. happy? Stop. Not happy? Repeat from step 2."
   ]
  },
  {
   "cell_type": "markdown",
   "metadata": {},
   "source": [
    "## What's next? "
   ]
  },
  {
   "cell_type": "markdown",
   "metadata": {},
   "source": [
    "Back to the [table of contents](00-Introduction.ipynb#ctoc)."
   ]
  }
 ],
 "metadata": {
  "hide_input": false,
  "kernelspec": {
   "display_name": "Python 3",
   "language": "python",
   "name": "python3"
  },
  "language_info": {
   "codemirror_mode": {
    "name": "ipython",
    "version": 3
   },
   "file_extension": ".py",
   "mimetype": "text/x-python",
   "name": "python",
   "nbconvert_exporter": "python",
   "pygments_lexer": "ipython3",
   "version": "3.5.2"
  },
  "toc": {
   "base_numbering": "30",
   "nav_menu": {},
   "number_sections": true,
   "sideBar": true,
   "skip_h1_title": false,
   "title_cell": "Table of Contents",
   "title_sidebar": "Contents",
   "toc_cell": true,
   "toc_position": {
    "height": "750px",
    "left": "29px",
    "top": "111px",
    "width": "310px"
   },
   "toc_section_display": true,
   "toc_window_display": true
  }
 },
 "nbformat": 4,
 "nbformat_minor": 2
}
